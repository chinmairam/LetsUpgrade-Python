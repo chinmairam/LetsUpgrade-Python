{
  "nbformat": 4,
  "nbformat_minor": 0,
  "metadata": {
    "colab": {
      "name": "Assignment-1.ipynb",
      "provenance": [],
      "collapsed_sections": []
    },
    "kernelspec": {
      "name": "python3",
      "display_name": "Python 3"
    },
    "language_info": {
      "name": "python"
    }
  },
  "cells": [
    {
      "cell_type": "markdown",
      "metadata": {
        "id": "gViJH8h1js7q"
      },
      "source": [
        "**Muppa Chinmai Ram Naga Sai Prasad**"
      ]
    },
    {
      "cell_type": "markdown",
      "metadata": {
        "id": "XsFUyxCSfz8F"
      },
      "source": [
        "**Question 1**\n",
        "\n",
        "Create 2 list with some brand names"
      ]
    },
    {
      "cell_type": "code",
      "metadata": {
        "id": "RqmW9G5uf8T6"
      },
      "source": [
        "L1 = [\"Cadbury\", \"Nestle\", \"KFC\", \"McDonalds\", \"Coca Cola\", \"Britannia\", \"Kellogs\", \"Starbucks\", \"Amazon\"]\n",
        "\n",
        "L2 = [\"KFC\", \"Adidas\", \"IBM\", \"Nike\", \"Starbucks\", \"FILA\", \"Nestle\", \"Amazon\", \"Cadbury\"]"
      ],
      "execution_count": 1,
      "outputs": []
    },
    {
      "cell_type": "code",
      "metadata": {
        "colab": {
          "base_uri": "https://localhost:8080/"
        },
        "id": "-iwyVD2KhCJv",
        "outputId": "1c86d913-3e29-43cf-eb16-78318ecfddfd"
      },
      "source": [
        "print(\"List-1 is \", L1)\n",
        "print(\"List-2 is \", L2)"
      ],
      "execution_count": 3,
      "outputs": [
        {
          "output_type": "stream",
          "text": [
            "List-1 is  ['Cadbury', 'Nestle', 'KFC', 'McDonalds', 'Coca Cola', 'Britannia', 'Kellogs', 'Starbucks', 'Amazon']\n",
            "List-2 is  ['KFC', 'Adidas', 'IBM', 'Nike', 'Starbucks', 'FILA', 'Nestle', 'Amazon', 'Cadbury']\n"
          ],
          "name": "stdout"
        }
      ]
    },
    {
      "cell_type": "markdown",
      "metadata": {
        "id": "6Qffdvy4hWQr"
      },
      "source": [
        "**Question 2**\n",
        "\n",
        "List of overlapping brand names in both lists"
      ]
    },
    {
      "cell_type": "code",
      "metadata": {
        "colab": {
          "base_uri": "https://localhost:8080/"
        },
        "id": "3m-QQhjjhbvp",
        "outputId": "72bfa30e-3d38-4da1-a52a-3e6e7b1730bd"
      },
      "source": [
        "common = list(set(L1) & set(L2))\n",
        "print(\"Overlapping brand names are \", common)\n",
        "print(\"Length of Overlapping brand names list is \" + str(len(common)))"
      ],
      "execution_count": 8,
      "outputs": [
        {
          "output_type": "stream",
          "text": [
            "Overlapping brand names are  ['KFC', 'Cadbury', 'Nestle', 'Amazon', 'Starbucks']\n",
            "Length of Overlapping brand names list is 5\n"
          ],
          "name": "stdout"
        }
      ]
    },
    {
      "cell_type": "markdown",
      "metadata": {
        "id": "gzcJWunUh3Wy"
      },
      "source": [
        "**Question 3**\n",
        "\n",
        "Print even numbers starting with 20 and ending with 40"
      ]
    },
    {
      "cell_type": "code",
      "metadata": {
        "colab": {
          "base_uri": "https://localhost:8080/"
        },
        "id": "ewQEDn-yh92L",
        "outputId": "8446cfdc-f885-44f1-8414-053fac851e55"
      },
      "source": [
        "print(\"Even Numbers in the range of 20 to 40(including 40) are: \")\n",
        "for i in range(20, 41):\n",
        "  if i % 2 == 0:\n",
        "    print(i, end = \" \")"
      ],
      "execution_count": 7,
      "outputs": [
        {
          "output_type": "stream",
          "text": [
            "Even Numbers in the range of 20 to 40(including 40) are: \n",
            "20 22 24 26 28 30 32 34 36 38 40 "
          ],
          "name": "stdout"
        }
      ]
    },
    {
      "cell_type": "code",
      "metadata": {
        "id": "FOiw7KfUicMb"
      },
      "source": [
        ""
      ],
      "execution_count": null,
      "outputs": []
    }
  ]
}